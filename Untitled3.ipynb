{
 "cells": [
  {
   "cell_type": "code",
   "execution_count": 2,
   "id": "363706a4-cb02-44d1-81b7-daf94de62db6",
   "metadata": {},
   "outputs": [
    {
     "data": {
      "text/plain": [
       "'Games of Thrones\\\\ is an epic'"
      ]
     },
     "execution_count": 2,
     "metadata": {},
     "output_type": "execute_result"
    }
   ],
   "source": [
    "name=\"Games of Thrones\\ is an epic\"\n",
    "name"
   ]
  },
  {
   "cell_type": "code",
   "execution_count": 3,
   "id": "217aa0ca-1064-44e7-a2ee-e0ad3f67e499",
   "metadata": {},
   "outputs": [
    {
     "data": {
      "text/plain": [
       "'Games of Thrones is /n an epic'"
      ]
     },
     "execution_count": 3,
     "metadata": {},
     "output_type": "execute_result"
    }
   ],
   "source": [
    "name='Games of Thrones is /n an epic'\n",
    "name"
   ]
  },
  {
   "cell_type": "code",
   "execution_count": 4,
   "id": "e87a7c6c-614f-4af6-b684-2534bacf8496",
   "metadata": {},
   "outputs": [
    {
     "data": {
      "text/plain": [
       "'Games of Thrones is <3 an epic'"
      ]
     },
     "execution_count": 4,
     "metadata": {},
     "output_type": "execute_result"
    }
   ],
   "source": [
    "name.replace(\"/n\", \"<3\")"
   ]
  },
  {
   "cell_type": "code",
   "execution_count": 5,
   "id": "984cfa3e-3879-4cd3-b2ff-1af71266c8a4",
   "metadata": {},
   "outputs": [
    {
     "name": "stdout",
     "output_type": "stream",
     "text": [
      "G\n"
     ]
    }
   ],
   "source": [
    "#Indexing\n",
    "print(name[0])"
   ]
  },
  {
   "cell_type": "code",
   "execution_count": 6,
   "id": "51ac1802-50e3-488c-b79e-4ed704177ddc",
   "metadata": {},
   "outputs": [
    {
     "data": {
      "text/plain": [
       "4"
      ]
     },
     "execution_count": 6,
     "metadata": {},
     "output_type": "execute_result"
    }
   ],
   "source": [
    "len('name')"
   ]
  },
  {
   "cell_type": "code",
   "execution_count": 7,
   "id": "fdd76665-4a93-441c-8857-7fe79d0027ff",
   "metadata": {},
   "outputs": [
    {
     "ename": "AttributeError",
     "evalue": "'str' object has no attribute 'len'",
     "output_type": "error",
     "traceback": [
      "\u001b[0;31m---------------------------------------------------------------------------\u001b[0m",
      "\u001b[0;31mAttributeError\u001b[0m                            Traceback (most recent call last)",
      "\u001b[0;32m<ipython-input-7-bb79bb79343e>\u001b[0m in \u001b[0;36m<module>\u001b[0;34m\u001b[0m\n\u001b[0;32m----> 1\u001b[0;31m \u001b[0mname\u001b[0m\u001b[0;34m.\u001b[0m\u001b[0mlen\u001b[0m\u001b[0;34m\u001b[0m\u001b[0;34m\u001b[0m\u001b[0m\n\u001b[0m",
      "\u001b[0;31mAttributeError\u001b[0m: 'str' object has no attribute 'len'"
     ]
    }
   ],
   "source": [
    "name.len"
   ]
  },
  {
   "cell_type": "code",
   "execution_count": 8,
   "id": "09d6efbf-2094-45fc-8562-b99b4de451d1",
   "metadata": {},
   "outputs": [
    {
     "name": "stdout",
     "output_type": "stream",
     "text": [
      " \n"
     ]
    }
   ],
   "source": [
    "print(name[22])"
   ]
  },
  {
   "cell_type": "code",
   "execution_count": 9,
   "id": "026f3d12-c8b7-4aef-9e6c-0ca255b17abf",
   "metadata": {},
   "outputs": [
    {
     "name": "stdout",
     "output_type": "stream",
     "text": [
      " \n"
     ]
    }
   ],
   "source": [
    "print(name[22])"
   ]
  },
  {
   "cell_type": "code",
   "execution_count": 10,
   "id": "327b918e-c73e-43b2-ac2b-62a4d45ab936",
   "metadata": {},
   "outputs": [],
   "source": [
    "name=\"Game of thrones is an <3 epic\""
   ]
  },
  {
   "cell_type": "code",
   "execution_count": 11,
   "id": "130fed8c-a677-4fec-9e59-93adc4615e88",
   "metadata": {},
   "outputs": [
    {
     "name": "stdout",
     "output_type": "stream",
     "text": [
      "<\n"
     ]
    }
   ],
   "source": [
    "print(name[22])"
   ]
  },
  {
   "cell_type": "code",
   "execution_count": 12,
   "id": "2121d72a-cdcc-446b-ad97-11a3384adeb0",
   "metadata": {},
   "outputs": [
    {
     "name": "stdout",
     "output_type": "stream",
     "text": [
      "<\n"
     ]
    }
   ],
   "source": [
    "print(name[22:23])"
   ]
  },
  {
   "cell_type": "code",
   "execution_count": 13,
   "id": "4342e5a1-c0de-47d3-959a-6082e735fb4e",
   "metadata": {},
   "outputs": [
    {
     "name": "stdout",
     "output_type": "stream",
     "text": [
      "<3\n"
     ]
    }
   ],
   "source": [
    "print(name[22:24])"
   ]
  },
  {
   "cell_type": "code",
   "execution_count": 1,
   "id": "02717e36-286c-40f0-aaea-234523011e75",
   "metadata": {},
   "outputs": [
    {
     "data": {
      "text/plain": [
       "16"
      ]
     },
     "execution_count": 1,
     "metadata": {},
     "output_type": "execute_result"
    }
   ],
   "source": [
    "len(\"Games of thrones\")"
   ]
  },
  {
   "cell_type": "code",
   "execution_count": 2,
   "id": "5524e0c1-ab5b-4408-95b7-89e552125cdf",
   "metadata": {},
   "outputs": [
    {
     "ename": "NameError",
     "evalue": "name 'name' is not defined",
     "output_type": "error",
     "traceback": [
      "\u001b[0;31m---------------------------------------------------------------------------\u001b[0m",
      "\u001b[0;31mNameError\u001b[0m                                 Traceback (most recent call last)",
      "\u001b[0;32m<ipython-input-2-e2a2813a509c>\u001b[0m in \u001b[0;36m<module>\u001b[0;34m\u001b[0m\n\u001b[0;32m----> 1\u001b[0;31m \u001b[0mname\u001b[0m\u001b[0;34m(\u001b[0m\u001b[0;34m[\u001b[0m\u001b[0;34m-\u001b[0m\u001b[0;36m1\u001b[0m\u001b[0;34m]\u001b[0m\u001b[0;34m)\u001b[0m\u001b[0;34m\u001b[0m\u001b[0;34m\u001b[0m\u001b[0m\n\u001b[0m",
      "\u001b[0;31mNameError\u001b[0m: name 'name' is not defined"
     ]
    }
   ],
   "source": [
    "name([-1])"
   ]
  },
  {
   "cell_type": "code",
   "execution_count": 3,
   "id": "4134469d-e1ce-4f07-be93-b7ae2369e342",
   "metadata": {},
   "outputs": [
    {
     "name": "stdout",
     "output_type": "stream",
     "text": [
      "s\n"
     ]
    }
   ],
   "source": [
    "name=\"Games of thrones\"\n",
    "print(name[-1])"
   ]
  },
  {
   "cell_type": "code",
   "execution_count": 4,
   "id": "bb750898-703b-4eb0-845d-14837ccf9e5a",
   "metadata": {},
   "outputs": [
    {
     "ename": "IndexError",
     "evalue": "string index out of range",
     "output_type": "error",
     "traceback": [
      "\u001b[0;31m---------------------------------------------------------------------------\u001b[0m",
      "\u001b[0;31mIndexError\u001b[0m                                Traceback (most recent call last)",
      "\u001b[0;32m<ipython-input-4-8695cbd6737b>\u001b[0m in \u001b[0;36m<module>\u001b[0;34m\u001b[0m\n\u001b[0;32m----> 1\u001b[0;31m \u001b[0mprint\u001b[0m\u001b[0;34m(\u001b[0m\u001b[0mname\u001b[0m\u001b[0;34m[\u001b[0m\u001b[0;34m-\u001b[0m\u001b[0;36m17\u001b[0m\u001b[0;34m]\u001b[0m\u001b[0;34m)\u001b[0m\u001b[0;34m\u001b[0m\u001b[0;34m\u001b[0m\u001b[0m\n\u001b[0m",
      "\u001b[0;31mIndexError\u001b[0m: string index out of range"
     ]
    }
   ],
   "source": [
    "print(name[-17])"
   ]
  },
  {
   "cell_type": "code",
   "execution_count": 5,
   "id": "b8b3bf13-c805-4ad1-9b3d-a45372465a20",
   "metadata": {},
   "outputs": [
    {
     "name": "stdout",
     "output_type": "stream",
     "text": [
      "G\n"
     ]
    }
   ],
   "source": [
    "print(name[-16])"
   ]
  },
  {
   "cell_type": "code",
   "execution_count": 15,
   "id": "add6c58d-9b33-4854-aa3e-28eb1e1d3192",
   "metadata": {},
   "outputs": [
    {
     "name": "stdout",
     "output_type": "stream",
     "text": [
      "s\n"
     ]
    }
   ],
   "source": [
    "print(name[-1])"
   ]
  },
  {
   "cell_type": "code",
   "execution_count": 16,
   "id": "1c7c64d2-5613-430a-a4a2-1ba7a7bc7951",
   "metadata": {},
   "outputs": [
    {
     "name": "stdout",
     "output_type": "stream",
     "text": [
      "Games of thrones\n"
     ]
    }
   ],
   "source": [
    "print(name)"
   ]
  },
  {
   "cell_type": "code",
   "execution_count": 17,
   "id": "7068d93b-7dc6-4e47-8f62-88360f0d2c15",
   "metadata": {},
   "outputs": [
    {
     "data": {
      "text/plain": [
       "16"
      ]
     },
     "execution_count": 17,
     "metadata": {},
     "output_type": "execute_result"
    }
   ],
   "source": [
    "len(name)"
   ]
  },
  {
   "cell_type": "code",
   "execution_count": 18,
   "id": "e88b8a3a-a06b-4f00-bbf7-f4af6f8fcf1e",
   "metadata": {},
   "outputs": [
    {
     "name": "stdout",
     "output_type": "stream",
     "text": [
      "Games of thrones\n"
     ]
    }
   ],
   "source": [
    "#Slicing\n",
    "print(name)"
   ]
  },
  {
   "cell_type": "code",
   "execution_count": 19,
   "id": "f4afab25-1f59-4894-9336-908925746e0d",
   "metadata": {},
   "outputs": [
    {
     "name": "stdout",
     "output_type": "stream",
     "text": [
      "es of \n"
     ]
    }
   ],
   "source": [
    "#Obtain desired characters:\n",
    "print(name[3:9])"
   ]
  },
  {
   "cell_type": "code",
   "execution_count": 20,
   "id": "828c4123-250c-4de8-9d45-b198b3273e88",
   "metadata": {},
   "outputs": [
    {
     "name": "stdout",
     "output_type": "stream",
     "text": [
      "ones\n"
     ]
    }
   ],
   "source": [
    "print(name[12:16])"
   ]
  },
  {
   "cell_type": "code",
   "execution_count": 21,
   "id": "17863223-3fe4-492a-af76-e0aad8ff6c77",
   "metadata": {},
   "outputs": [
    {
     "ename": "SyntaxError",
     "evalue": "invalid syntax (<ipython-input-21-ce2026dbfbe6>, line 2)",
     "output_type": "error",
     "traceback": [
      "\u001b[0;36m  File \u001b[0;32m\"<ipython-input-21-ce2026dbfbe6>\"\u001b[0;36m, line \u001b[0;32m2\u001b[0m\n\u001b[0;31m    name([::2])\u001b[0m\n\u001b[0m          ^\u001b[0m\n\u001b[0;31mSyntaxError\u001b[0m\u001b[0;31m:\u001b[0m invalid syntax\n"
     ]
    }
   ],
   "source": [
    "#Get every second element of the statement\n",
    "name([::2])"
   ]
  },
  {
   "cell_type": "code",
   "execution_count": 22,
   "id": "e6d86a94-511e-4b9b-838e-36fbaa125051",
   "metadata": {},
   "outputs": [
    {
     "data": {
      "text/plain": [
       "'Gmso hoe'"
      ]
     },
     "execution_count": 22,
     "metadata": {},
     "output_type": "execute_result"
    }
   ],
   "source": [
    "name[::2]"
   ]
  },
  {
   "cell_type": "code",
   "execution_count": 23,
   "id": "c3dab741-f51a-45bf-b168-a17529897a4e",
   "metadata": {},
   "outputs": [
    {
     "data": {
      "text/plain": [
       "'ones'"
      ]
     },
     "execution_count": 23,
     "metadata": {},
     "output_type": "execute_result"
    }
   ],
   "source": [
    "name[12:16]"
   ]
  },
  {
   "cell_type": "code",
   "execution_count": 24,
   "id": "dfa7d798-3ed2-4c41-9474-eb77a8f94bbc",
   "metadata": {},
   "outputs": [
    {
     "data": {
      "text/plain": [
       "'G hs'"
      ]
     },
     "execution_count": 24,
     "metadata": {},
     "output_type": "execute_result"
    }
   ],
   "source": [
    "name[::5]"
   ]
  },
  {
   "cell_type": "code",
   "execution_count": 1,
   "id": "f8e5c0b2-0ebb-4717-85ce-9657ca6dc76f",
   "metadata": {},
   "outputs": [
    {
     "ename": "NameError",
     "evalue": "name 'name' is not defined",
     "output_type": "error",
     "traceback": [
      "\u001b[0;31m---------------------------------------------------------------------------\u001b[0m",
      "\u001b[0;31mNameError\u001b[0m                                 Traceback (most recent call last)",
      "\u001b[0;32m<ipython-input-1-6dd79100ce77>\u001b[0m in \u001b[0;36masync-def-wrapper\u001b[0;34m()\u001b[0m\n",
      "\u001b[0;31mNameError\u001b[0m: name 'name' is not defined"
     ]
    }
   ],
   "source": [
    "  #Get an element in a determined array\n",
    "    #Get every second element in the array of [0:7]\n",
    "    name[0:7:2]"
   ]
  },
  {
   "cell_type": "code",
   "execution_count": 2,
   "id": "f1dd4c4a-361e-48c9-87ca-a3fcaee86d11",
   "metadata": {},
   "outputs": [
    {
     "data": {
      "text/plain": [
       "'Gmso'"
      ]
     },
     "execution_count": 2,
     "metadata": {},
     "output_type": "execute_result"
    }
   ],
   "source": [
    "name=\"Games of thrones\"\n",
    "name[0:7:2]"
   ]
  },
  {
   "cell_type": "code",
   "execution_count": 3,
   "id": "e54d43a1-69a2-4823-8371-51a8f576b737",
   "metadata": {},
   "outputs": [
    {
     "data": {
      "text/plain": [
       "'Gmso h'"
      ]
     },
     "execution_count": 3,
     "metadata": {},
     "output_type": "execute_result"
    }
   ],
   "source": [
    "name[0:11:2]"
   ]
  },
  {
   "cell_type": "code",
   "execution_count": 4,
   "id": "4326fc66-eea4-4653-b6af-dc9201b03583",
   "metadata": {},
   "outputs": [
    {
     "data": {
      "text/plain": [
       "'Gmso ho'"
      ]
     },
     "execution_count": 4,
     "metadata": {},
     "output_type": "execute_result"
    }
   ],
   "source": [
    "name[0:13:2]"
   ]
  },
  {
   "cell_type": "code",
   "execution_count": 5,
   "id": "bf48583c-571a-437f-9a2b-72c4cb98c347",
   "metadata": {},
   "outputs": [
    {
     "data": {
      "text/plain": [
       "'Games'"
      ]
     },
     "execution_count": 5,
     "metadata": {},
     "output_type": "execute_result"
    }
   ],
   "source": [
    "name[0:5]"
   ]
  },
  {
   "cell_type": "code",
   "execution_count": 8,
   "id": "9ff39e7e-6c94-49ef-b8c7-033fc53c4ebb",
   "metadata": {},
   "outputs": [
    {
     "data": {
      "text/plain": [
       "'Games of thronesis epic'"
      ]
     },
     "execution_count": 8,
     "metadata": {},
     "output_type": "execute_result"
    }
   ],
   "source": [
    "#Concatenate 2 strings\n",
    "statement = name+\"is epic\"\n",
    "statement\n",
    "statement = name+ \"is epic\"\n",
    "statement"
   ]
  },
  {
   "cell_type": "code",
   "execution_count": 9,
   "id": "dc4aebf8-8b2e-4502-bdea-988db97ac840",
   "metadata": {},
   "outputs": [
    {
     "data": {
      "text/plain": [
       "'Games of thronesis epic'"
      ]
     },
     "execution_count": 9,
     "metadata": {},
     "output_type": "execute_result"
    }
   ],
   "source": [
    "statement = name + \"is epic\"\n",
    "statement"
   ]
  },
  {
   "cell_type": "code",
   "execution_count": 10,
   "id": "a318f5de-0407-497d-aec5-5b59d89037bc",
   "metadata": {},
   "outputs": [
    {
     "data": {
      "text/plain": [
       "'Games of thrones is epic'"
      ]
     },
     "execution_count": 10,
     "metadata": {},
     "output_type": "execute_result"
    }
   ],
   "source": [
    "statement = name + \" is epic\"\n",
    "statement"
   ]
  },
  {
   "cell_type": "code",
   "execution_count": 11,
   "id": "d31963fe-0fc5-4470-9df7-3ae84c0eedc5",
   "metadata": {},
   "outputs": [
    {
     "data": {
      "text/plain": [
       "' Games of Thrones Games of Thrones'"
      ]
     },
     "execution_count": 11,
     "metadata": {},
     "output_type": "execute_result"
    }
   ],
   "source": [
    "name = \" Games of Thrones\"\n",
    "name = name + \" Games of Thrones\"\n",
    "name"
   ]
  },
  {
   "cell_type": "code",
   "execution_count": 12,
   "id": "7f903ed0-e73c-4a0e-84ac-2ec000387ace",
   "metadata": {},
   "outputs": [
    {
     "name": "stdout",
     "output_type": "stream",
     "text": [
      "Game of Thrones \n",
      " is the best\n"
     ]
    }
   ],
   "source": [
    "#New line escape sequence\n",
    "print(\"Game of Thrones \\n is the best\")\n"
   ]
  },
  {
   "cell_type": "code",
   "execution_count": 13,
   "id": "37875bd2-d119-40e9-ac1c-8e456c135623",
   "metadata": {},
   "outputs": [
    {
     "name": "stdout",
     "output_type": "stream",
     "text": [
      "Game fo Thrones \t is the best\n"
     ]
    }
   ],
   "source": [
    "#Tab escape sequence\n",
    "print(\"Game fo Thrones \\t is the best\")"
   ]
  },
  {
   "cell_type": "code",
   "execution_count": 14,
   "id": "f513f434-dd6e-4c26-9367-c1083140cd48",
   "metadata": {},
   "outputs": [
    {
     "data": {
      "text/plain": [
       "<function str.upper>"
      ]
     },
     "execution_count": 14,
     "metadata": {},
     "output_type": "execute_result"
    }
   ],
   "source": [
    "# Convert all the characters in string to upper case\n",
    "a= \"Games of Thrones\"\n",
    "a.upper"
   ]
  },
  {
   "cell_type": "code",
   "execution_count": 15,
   "id": "cb1dfc28-763a-465f-bc96-706bd27b2989",
   "metadata": {},
   "outputs": [
    {
     "ename": "NameError",
     "evalue": "name 'upper' is not defined",
     "output_type": "error",
     "traceback": [
      "\u001b[0;31m---------------------------------------------------------------------------\u001b[0m",
      "\u001b[0;31mNameError\u001b[0m                                 Traceback (most recent call last)",
      "\u001b[0;32m<ipython-input-15-4d9b9d7e7b3b>\u001b[0m in \u001b[0;36m<module>\u001b[0;34m\u001b[0m\n\u001b[0;32m----> 1\u001b[0;31m \u001b[0mupper\u001b[0m\u001b[0;34m(\u001b[0m\u001b[0ma\u001b[0m\u001b[0;34m)\u001b[0m\u001b[0;34m\u001b[0m\u001b[0;34m\u001b[0m\u001b[0m\n\u001b[0m",
      "\u001b[0;31mNameError\u001b[0m: name 'upper' is not defined"
     ]
    }
   ],
   "source": [
    "upper(a)"
   ]
  },
  {
   "cell_type": "code",
   "execution_count": 16,
   "id": "816d2ed6-8c80-47ff-9634-d1da4462efa8",
   "metadata": {},
   "outputs": [
    {
     "data": {
      "text/plain": [
       "'GAMES OF THRONES'"
      ]
     },
     "execution_count": 16,
     "metadata": {},
     "output_type": "execute_result"
    }
   ],
   "source": [
    "a.upper()"
   ]
  },
  {
   "cell_type": "code",
   "execution_count": 17,
   "id": "2e9c878a-06e7-4ad9-a52c-da367a90409c",
   "metadata": {},
   "outputs": [
    {
     "ename": "TypeError",
     "evalue": "upper() takes no arguments (1 given)",
     "output_type": "error",
     "traceback": [
      "\u001b[0;31m---------------------------------------------------------------------------\u001b[0m",
      "\u001b[0;31mTypeError\u001b[0m                                 Traceback (most recent call last)",
      "\u001b[0;32m<ipython-input-17-0f53cb466155>\u001b[0m in \u001b[0;36m<module>\u001b[0;34m\u001b[0m\n\u001b[0;32m----> 1\u001b[0;31m \u001b[0ma\u001b[0m\u001b[0;34m.\u001b[0m\u001b[0mupper\u001b[0m\u001b[0;34m(\u001b[0m\u001b[0;34m\"thrones\"\u001b[0m\u001b[0;34m)\u001b[0m\u001b[0;34m\u001b[0m\u001b[0;34m\u001b[0m\u001b[0m\n\u001b[0m",
      "\u001b[0;31mTypeError\u001b[0m: upper() takes no arguments (1 given)"
     ]
    }
   ],
   "source": [
    "a.upper(\"thrones\")"
   ]
  },
  {
   "cell_type": "code",
   "execution_count": 18,
   "id": "0268559d-649c-434c-b0dd-1f08867ce098",
   "metadata": {},
   "outputs": [
    {
     "ename": "TypeError",
     "evalue": "upper() takes no arguments (1 given)",
     "output_type": "error",
     "traceback": [
      "\u001b[0;31m---------------------------------------------------------------------------\u001b[0m",
      "\u001b[0;31mTypeError\u001b[0m                                 Traceback (most recent call last)",
      "\u001b[0;32m<ipython-input-18-3056b3d9306b>\u001b[0m in \u001b[0;36m<module>\u001b[0;34m\u001b[0m\n\u001b[0;32m----> 1\u001b[0;31m \u001b[0ma\u001b[0m\u001b[0;34m.\u001b[0m\u001b[0mupper\u001b[0m\u001b[0;34m(\u001b[0m\u001b[0;34m\"Thrones\"\u001b[0m\u001b[0;34m)\u001b[0m\u001b[0;34m\u001b[0m\u001b[0;34m\u001b[0m\u001b[0m\n\u001b[0m",
      "\u001b[0;31mTypeError\u001b[0m: upper() takes no arguments (1 given)"
     ]
    }
   ],
   "source": [
    "a.upper(\"Thrones\")"
   ]
  },
  {
   "cell_type": "code",
   "execution_count": 19,
   "id": "b3aaa80c-c2d0-4ae7-899f-925ef074289a",
   "metadata": {},
   "outputs": [
    {
     "name": "stdout",
     "output_type": "stream",
     "text": [
      "before upper: Games of Thrones\n"
     ]
    }
   ],
   "source": [
    "print(\"before upper:\", a)"
   ]
  },
  {
   "cell_type": "code",
   "execution_count": 20,
   "id": "23259c12-002e-427f-b524-7ae71bd3902d",
   "metadata": {},
   "outputs": [
    {
     "name": "stdout",
     "output_type": "stream",
     "text": [
      "After upper: Games of Thrones\n"
     ]
    }
   ],
   "source": [
    "print(\"After upper:\", a)"
   ]
  },
  {
   "cell_type": "code",
   "execution_count": 21,
   "id": "1869ca1f-2045-4bbb-8ea5-6c7ab6f13c37",
   "metadata": {},
   "outputs": [
    {
     "name": "stdout",
     "output_type": "stream",
     "text": [
      "before upper: Games of Thrones\n"
     ]
    }
   ],
   "source": [
    "a=\"Games of Thrones\"\n",
    "print(\"before upper:\", a)"
   ]
  },
  {
   "cell_type": "code",
   "execution_count": 22,
   "id": "7ca39505-db6d-48b3-b834-e5ab14ad50bd",
   "metadata": {},
   "outputs": [],
   "source": [
    "b=a.upper()"
   ]
  },
  {
   "cell_type": "code",
   "execution_count": 23,
   "id": "cfca28b4-bb7d-46b8-aaa0-28cf2c1298b1",
   "metadata": {},
   "outputs": [
    {
     "name": "stdout",
     "output_type": "stream",
     "text": [
      "after upper: GAMES OF THRONES\n"
     ]
    }
   ],
   "source": [
    "print(\"after upper:\", b)"
   ]
  },
  {
   "cell_type": "code",
   "execution_count": 24,
   "id": "2b384a47-2194-4c24-b60b-f06be5e221ff",
   "metadata": {},
   "outputs": [
    {
     "data": {
      "text/plain": [
       "'Games of Chess'"
      ]
     },
     "execution_count": 24,
     "metadata": {},
     "output_type": "execute_result"
    }
   ],
   "source": [
    "#Replace the old substring with the new target substring \n",
    "a=\"Games of Thrones\"\n",
    "a.replace(\"Thrones\", \"Chess\")"
   ]
  },
  {
   "cell_type": "code",
   "execution_count": 25,
   "id": "e3488b3c-fffe-435c-9358-b0588b28a3d0",
   "metadata": {},
   "outputs": [
    {
     "name": "stdout",
     "output_type": "stream",
     "text": [
      "Games of Thrones\n"
     ]
    }
   ],
   "source": [
    "# Find the substring in the string. Only the index of the first elment of substring in string will be the output\n",
    "print(a)"
   ]
  },
  {
   "cell_type": "code",
   "execution_count": 26,
   "id": "8d844cc1-2227-4bb4-880b-f15d9a1d057e",
   "metadata": {},
   "outputs": [
    {
     "data": {
      "text/plain": [
       "12"
      ]
     },
     "execution_count": 26,
     "metadata": {},
     "output_type": "execute_result"
    }
   ],
   "source": [
    "a.find(\"ones\")"
   ]
  },
  {
   "cell_type": "code",
   "execution_count": null,
   "id": "ca01bcf1-9620-404b-8fa4-852494a5cdbc",
   "metadata": {},
   "outputs": [],
   "source": []
  }
 ],
 "metadata": {
  "kernelspec": {
   "display_name": "Python",
   "language": "python",
   "name": "conda-env-python-py"
  },
  "language_info": {
   "codemirror_mode": {
    "name": "ipython",
    "version": 3
   },
   "file_extension": ".py",
   "mimetype": "text/x-python",
   "name": "python",
   "nbconvert_exporter": "python",
   "pygments_lexer": "ipython3",
   "version": "3.6.13"
  }
 },
 "nbformat": 4,
 "nbformat_minor": 5
}
